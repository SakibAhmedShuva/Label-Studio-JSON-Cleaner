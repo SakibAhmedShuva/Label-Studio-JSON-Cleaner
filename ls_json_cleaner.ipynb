{
 "cells": [
  {
   "cell_type": "code",
   "execution_count": null,
   "metadata": {},
   "outputs": [
    {
     "name": "stdout",
     "output_type": "stream",
     "text": [
      "File cleaned and saved to cleaned_pastde.json\n"
     ]
    }
   ],
   "source": [
    "def fix_encoding(text):\n",
    "    \"\"\"\n",
    "    Carefully fix common encoding issues without changing text structure\n",
    "    \"\"\"\n",
    "    # Mapping of common problematic character sequences\n",
    "    encoding_fixes = {\n",
    "        'ÃƒÂ': 'A',\n",
    "        'Ã': 'A',\n",
    "        'ƒÂ': '',\n",
    "        'â€™': \"'\",  # Smart quote\n",
    "        'â€œ': '\"',  # Left double quote\n",
    "        'â€': '\"',   # Right double quote\n",
    "        'Ã©': 'e',\n",
    "        'Ã¨': 'e',\n",
    "        'Ã': 'A',\n",
    "        'Â': ' '\n",
    "    }\n",
    "    \n",
    "    # Apply replacements\n",
    "    for bad_char, replacement in encoding_fixes.items():\n",
    "        text = text.replace(bad_char, replacement)\n",
    "    \n",
    "    return text\n",
    "\n",
    "def clean_json_with_annotations(input_file, output_file):\n",
    "    \"\"\"\n",
    "    Clean encoding while preserving JSON structure and annotations\n",
    "    \"\"\"\n",
    "    import json\n",
    "    \n",
    "    # Read the original file\n",
    "    with open(input_file, 'r', encoding='utf-8') as f:\n",
    "        data = json.load(f)\n",
    "    \n",
    "    # Recursive cleaning function\n",
    "    def deep_clean(obj):\n",
    "        if isinstance(obj, dict):\n",
    "            return {k: deep_clean(v) for k, v in obj.items()}\n",
    "        elif isinstance(obj, list):\n",
    "            return [deep_clean(item) for item in obj]\n",
    "        elif isinstance(obj, str):\n",
    "            return fix_encoding(obj)\n",
    "        else:\n",
    "            return obj\n",
    "    \n",
    "    # Clean the entire data structure\n",
    "    cleaned_data = deep_clean(data)\n",
    "    \n",
    "    # Write the cleaned data\n",
    "    with open(output_file, 'w', encoding='utf-8') as f:\n",
    "        json.dump(cleaned_data, f, ensure_ascii=False, indent=2)\n",
    "    \n",
    "    print(f\"File cleaned and saved to {output_file}\")\n",
    "\n",
    "# Usage\n",
    "input_file = r'd:\\OneDrive - Personal\\final.json'\n",
    "output_file = 'cleaned_pastde.json'\n",
    "clean_json_with_annotations(input_file, output_file)"
   ]
  },
  {
   "cell_type": "code",
   "execution_count": null,
   "metadata": {},
   "outputs": [],
   "source": []
  }
 ],
 "metadata": {
  "kernelspec": {
   "display_name": "Python 3",
   "language": "python",
   "name": "python3"
  },
  "language_info": {
   "codemirror_mode": {
    "name": "ipython",
    "version": 3
   },
   "file_extension": ".py",
   "mimetype": "text/x-python",
   "name": "python",
   "nbconvert_exporter": "python",
   "pygments_lexer": "ipython3",
   "version": "3.12.7"
  }
 },
 "nbformat": 4,
 "nbformat_minor": 2
}
